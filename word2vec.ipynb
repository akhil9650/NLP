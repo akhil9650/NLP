{
  "nbformat": 4,
  "nbformat_minor": 0,
  "metadata": {
    "colab": {
      "name": "word2vec.ipynb",
      "provenance": [],
      "collapsed_sections": []
    },
    "kernelspec": {
      "name": "python3",
      "display_name": "Python 3"
    },
    "accelerator": "GPU"
  },
  "cells": [
    {
      "cell_type": "markdown",
      "metadata": {
        "id": "uAZHvEVzyqi7"
      },
      "source": [
        "Permissions for Google Colab FIle Stream"
      ]
    },
    {
      "cell_type": "code",
      "metadata": {
        "id": "xBZpvx1gkwwK",
        "colab": {
          "base_uri": "https://localhost:8080/",
          "height": 34
        },
        "outputId": "8947c728-acad-428b-851d-027263524185"
      },
      "source": [
        "# Load the Drive helper and mount\n",
        "from google.colab import drive\n",
        "drive.mount('/content/drive')"
      ],
      "execution_count": null,
      "outputs": [
        {
          "output_type": "stream",
          "text": [
            "Drive already mounted at /content/drive; to attempt to forcibly remount, call drive.mount(\"/content/drive\", force_remount=True).\n"
          ],
          "name": "stdout"
        }
      ]
    },
    {
      "cell_type": "markdown",
      "metadata": {
        "id": "Bk2xfv4Hyok1"
      },
      "source": [
        "Importing Libraries"
      ]
    },
    {
      "cell_type": "code",
      "metadata": {
        "id": "G3oLCE39rQab"
      },
      "source": [
        "import pandas as pd\n",
        "import csv"
      ],
      "execution_count": null,
      "outputs": []
    },
    {
      "cell_type": "markdown",
      "metadata": {
        "id": "IN12_3ZMzBBf"
      },
      "source": [
        "Importing dataset"
      ]
    },
    {
      "cell_type": "code",
      "metadata": {
        "id": "Zr3qJ6J-rT97"
      },
      "source": [
        "dataset = pd.read_csv('/content/drive/My Drive/Colab Notebooks/skills_users.csv)"
      ],
      "execution_count": null,
      "outputs": []
    },
    {
      "cell_type": "code",
      "metadata": {
        "id": "hm54wuVb22h0",
        "colab": {
          "base_uri": "https://localhost:8080/",
          "height": 166
        },
        "outputId": "ed162ed2-5985-40ce-d5a8-7f9ef638a0c2"
      },
      "source": [
        "dataset.describe()"
      ],
      "execution_count": null,
      "outputs": [
        {
          "output_type": "execute_result",
          "data": {
            "text/html": [
              "<div>\n",
              "<style scoped>\n",
              "    .dataframe tbody tr th:only-of-type {\n",
              "        vertical-align: middle;\n",
              "    }\n",
              "\n",
              "    .dataframe tbody tr th {\n",
              "        vertical-align: top;\n",
              "    }\n",
              "\n",
              "    .dataframe thead th {\n",
              "        text-align: right;\n",
              "    }\n",
              "</style>\n",
              "<table border=\"1\" class=\"dataframe\">\n",
              "  <thead>\n",
              "    <tr style=\"text-align: right;\">\n",
              "      <th></th>\n",
              "      <th>Skill</th>\n",
              "    </tr>\n",
              "  </thead>\n",
              "  <tbody>\n",
              "    <tr>\n",
              "      <th>count</th>\n",
              "      <td>299999</td>\n",
              "    </tr>\n",
              "    <tr>\n",
              "      <th>unique</th>\n",
              "      <td>289697</td>\n",
              "    </tr>\n",
              "    <tr>\n",
              "      <th>top</th>\n",
              "      <td>Social+Media</td>\n",
              "    </tr>\n",
              "    <tr>\n",
              "      <th>freq</th>\n",
              "      <td>141</td>\n",
              "    </tr>\n",
              "  </tbody>\n",
              "</table>\n",
              "</div>"
            ],
            "text/plain": [
              "               Skill\n",
              "count         299999\n",
              "unique        289697\n",
              "top     Social+Media\n",
              "freq             141"
            ]
          },
          "metadata": {
            "tags": []
          },
          "execution_count": 33
        }
      ]
    },
    {
      "cell_type": "code",
      "metadata": {
        "id": "9r8CaG0K0auj",
        "colab": {
          "base_uri": "https://localhost:8080/",
          "height": 639
        },
        "outputId": "c0ef5bfb-b491-494c-c4b6-c36f2aa08330"
      },
      "source": [
        "dataset.head(20)"
      ],
      "execution_count": null,
      "outputs": [
        {
          "output_type": "execute_result",
          "data": {
            "text/html": [
              "<div>\n",
              "<style scoped>\n",
              "    .dataframe tbody tr th:only-of-type {\n",
              "        vertical-align: middle;\n",
              "    }\n",
              "\n",
              "    .dataframe tbody tr th {\n",
              "        vertical-align: top;\n",
              "    }\n",
              "\n",
              "    .dataframe thead th {\n",
              "        text-align: right;\n",
              "    }\n",
              "</style>\n",
              "<table border=\"1\" class=\"dataframe\">\n",
              "  <thead>\n",
              "    <tr style=\"text-align: right;\">\n",
              "      <th></th>\n",
              "      <th>Skill</th>\n",
              "    </tr>\n",
              "  </thead>\n",
              "  <tbody>\n",
              "    <tr>\n",
              "      <th>0</th>\n",
              "      <td>Key+Account+Development Strategic+Planning Mar...</td>\n",
              "    </tr>\n",
              "    <tr>\n",
              "      <th>1</th>\n",
              "      <td>Molecular+Biology Biomarkers</td>\n",
              "    </tr>\n",
              "    <tr>\n",
              "      <th>2</th>\n",
              "      <td>DNA Nanotechnology Molecular+Biology Software+...</td>\n",
              "    </tr>\n",
              "    <tr>\n",
              "      <th>3</th>\n",
              "      <td>Program+Management French Avionics Embedded+Sy...</td>\n",
              "    </tr>\n",
              "    <tr>\n",
              "      <th>4</th>\n",
              "      <td>Digital+Strategy Integrated+Marketing Digital+...</td>\n",
              "    </tr>\n",
              "    <tr>\n",
              "      <th>5</th>\n",
              "      <td>DLP Managed+Services Solution+Selling Network+...</td>\n",
              "    </tr>\n",
              "    <tr>\n",
              "      <th>6</th>\n",
              "      <td>Project+Management Cross-functional+Team+Leade...</td>\n",
              "    </tr>\n",
              "    <tr>\n",
              "      <th>7</th>\n",
              "      <td>Predictive+Analytics Business+Analysis Competi...</td>\n",
              "    </tr>\n",
              "    <tr>\n",
              "      <th>8</th>\n",
              "      <td>virtual+team Project+Management Project+Planni...</td>\n",
              "    </tr>\n",
              "    <tr>\n",
              "      <th>9</th>\n",
              "      <td>Recruiting HR+Consulting Outplacement Executiv...</td>\n",
              "    </tr>\n",
              "    <tr>\n",
              "      <th>10</th>\n",
              "      <td>Interactive+Marketing Content+Strategy Affilia...</td>\n",
              "    </tr>\n",
              "    <tr>\n",
              "      <th>11</th>\n",
              "      <td>Social+Media Email+Marketing Shopper+Marketing...</td>\n",
              "    </tr>\n",
              "    <tr>\n",
              "      <th>12</th>\n",
              "      <td>AML Relationship+Management Team+Management Pr...</td>\n",
              "    </tr>\n",
              "    <tr>\n",
              "      <th>13</th>\n",
              "      <td>Microbiology Vaccines International+Sales Mark...</td>\n",
              "    </tr>\n",
              "    <tr>\n",
              "      <th>14</th>\n",
              "      <td>Primavera Revit+MEP AutoCAD Engineering HVAC P...</td>\n",
              "    </tr>\n",
              "    <tr>\n",
              "      <th>15</th>\n",
              "      <td>Six+Sigma Quality+Management Manufacturing Kai...</td>\n",
              "    </tr>\n",
              "    <tr>\n",
              "      <th>16</th>\n",
              "      <td>Beauty Cosmetics Luxury+Goods Retail Marketing...</td>\n",
              "    </tr>\n",
              "    <tr>\n",
              "      <th>17</th>\n",
              "      <td>SAP</td>\n",
              "    </tr>\n",
              "    <tr>\n",
              "      <th>18</th>\n",
              "      <td>Talent+Acquisition Recruiting Talent+Management</td>\n",
              "    </tr>\n",
              "    <tr>\n",
              "      <th>19</th>\n",
              "      <td>SQL COBOL DB2 JCL Java SDLC Visio Requirements...</td>\n",
              "    </tr>\n",
              "  </tbody>\n",
              "</table>\n",
              "</div>"
            ],
            "text/plain": [
              "                                                Skill\n",
              "0   Key+Account+Development Strategic+Planning Mar...\n",
              "1                        Molecular+Biology Biomarkers\n",
              "2   DNA Nanotechnology Molecular+Biology Software+...\n",
              "3   Program+Management French Avionics Embedded+Sy...\n",
              "4   Digital+Strategy Integrated+Marketing Digital+...\n",
              "5   DLP Managed+Services Solution+Selling Network+...\n",
              "6   Project+Management Cross-functional+Team+Leade...\n",
              "7   Predictive+Analytics Business+Analysis Competi...\n",
              "8   virtual+team Project+Management Project+Planni...\n",
              "9   Recruiting HR+Consulting Outplacement Executiv...\n",
              "10  Interactive+Marketing Content+Strategy Affilia...\n",
              "11  Social+Media Email+Marketing Shopper+Marketing...\n",
              "12  AML Relationship+Management Team+Management Pr...\n",
              "13  Microbiology Vaccines International+Sales Mark...\n",
              "14  Primavera Revit+MEP AutoCAD Engineering HVAC P...\n",
              "15  Six+Sigma Quality+Management Manufacturing Kai...\n",
              "16  Beauty Cosmetics Luxury+Goods Retail Marketing...\n",
              "17                                                SAP\n",
              "18    Talent+Acquisition Recruiting Talent+Management\n",
              "19  SQL COBOL DB2 JCL Java SDLC Visio Requirements..."
            ]
          },
          "metadata": {
            "tags": []
          },
          "execution_count": 34
        }
      ]
    },
    {
      "cell_type": "markdown",
      "metadata": {
        "id": "_Cnh5hpx2PeA"
      },
      "source": [
        "Creating corpus from data"
      ]
    },
    {
      "cell_type": "code",
      "metadata": {
        "id": "hx7zyVpn1Ugm"
      },
      "source": [
        "corpus_text = '\\n'.join(dataset[:299999]['Skill'])\n",
        "sentences = corpus_text.split('\\n')\n",
        "sentences = [line.lower().split(' ') for line in sentences]"
      ],
      "execution_count": null,
      "outputs": []
    },
    {
      "cell_type": "code",
      "metadata": {
        "id": "Pjs4Pq3-1fWK"
      },
      "source": [
        "sentences"
      ],
      "execution_count": null,
      "outputs": []
    },
    {
      "cell_type": "markdown",
      "metadata": {
        "id": "bohqlw8B2aLq"
      },
      "source": [
        "Training the model"
      ]
    },
    {
      "cell_type": "code",
      "metadata": {
        "id": "F7lReGZAr_L7"
      },
      "source": [
        "from gensim.models import Word2Vec\n",
        "\n",
        "# train model\n",
        "skill2vec = Word2Vec(sentences, min_count=10, iter=100, workers=64)"
      ],
      "execution_count": null,
      "outputs": []
    },
    {
      "cell_type": "code",
      "metadata": {
        "id": "FWtDSQ32sE7q",
        "colab": {
          "base_uri": "https://localhost:8080/",
          "height": 34
        },
        "outputId": "6e26aaef-3904-4020-8878-0d72db01d743"
      },
      "source": [
        "# summarize the loaded model\n",
        "print(skill2vec)"
      ],
      "execution_count": null,
      "outputs": [
        {
          "output_type": "stream",
          "text": [
            "Word2Vec(vocab=16979, size=100, alpha=0.025)\n"
          ],
          "name": "stdout"
        }
      ]
    },
    {
      "cell_type": "code",
      "metadata": {
        "id": "em_tC1fosG2C",
        "colab": {
          "base_uri": "https://localhost:8080/",
          "height": 54
        },
        "outputId": "b056b9fe-5271-4e19-f49d-9b9e66e97a85"
      },
      "source": [
        "# summarize vocabulary\n",
        "skills = list(skill2vec.wv.vocab)\n",
        "print(skills[:100])"
      ],
      "execution_count": null,
      "outputs": [
        {
          "output_type": "stream",
          "text": [
            "['key+account+development', 'strategic+planning', 'market+planning', 'team+leadership', 'negotiation', 'forecasting', 'key+account+management', 'sales+management', 'new+business+development', 'business+planning', 'cross-functional+team+leadership', 'budgeting', 'strategy+development', 'business+strategy', 'consultative+selling', 'medical+devices', 'customer+relations', 'contract+negotiation', 'mentoring', 'coaching', 'healthcare', 'territory', 'sales+process', 'direct+sales', 'sales+operations', 'pharmaceutical+sales', 'molecular+biology', 'biomarkers', 'dna', 'nanotechnology', 'software+development', 'program+management', 'french', 'avionics', 'embedded+systems', 'embedded+software', 'military', 'aerospace', 'testing', 'requirements+analysis', 'systems+engineering', 'ms+project', 'software+project+management', 'system+design', 'pmp', 'risk+management', 'digital+strategy', 'integrated+marketing', 'digital+marketing', 'relationship+marketing', 'direct+marketing', 'customer+insight', 'email+marketing', 'mobile+marketing', 'digital+media', 'creative+direction', 'brand+management', 'online+advertising', 'marketing+communications', 'multi-channel+marketing', 'brand+architecture', 'social+media+marketing', 'marketing+management', 'corporate+branding', 'e-commerce', 'advertising', 'dlp', 'managed+services', 'solution+selling', 'network+security', 'security', 'virtualization', 'project+management', 'business+process+re-engineering', 'software+development+life+cycle', 'business', 'integration', 'business+analysis', 'telecommunications', 'scrum', 'agile+methodologies', 'predictive+analytics', 'competitive+analysis', 'training+skills', 'market+research', 'market+analysis', 'marketing+strategy', 'pricing+analysis', 'pricing+strategy', 'pricing', 'project+planning', 'it+management', 'event+management', 'digital+photography', 'public+relations', 'recruiting', 'hr+consulting', 'outplacement', 'executive+search', 'talent+management']\n"
          ],
          "name": "stdout"
        }
      ]
    },
    {
      "cell_type": "markdown",
      "metadata": {
        "id": "_XXM0TW62dm3"
      },
      "source": [
        "Results"
      ]
    },
    {
      "cell_type": "code",
      "metadata": {
        "id": "Phu3gP1csKp7",
        "colab": {
          "base_uri": "https://localhost:8080/",
          "height": 87
        },
        "outputId": "0d792e72-a813-486b-b74e-f5c3a68e18dc"
      },
      "source": [
        "print('Python: ', skill2vec.wv.most_similar(['python']))"
      ],
      "execution_count": null,
      "outputs": [
        {
          "output_type": "stream",
          "text": [
            "Python:  [('bash', 0.6078890562057495), ('perl', 0.5594422221183777), ('shell+scripting', 0.5436615943908691), ('vim', 0.5409115552902222), ('lua', 0.5385885238647461), ('pyramid', 0.5343254208564758), ('twisted', 0.5320741534233093), ('ruby', 0.5279912352561951), ('objective-c', 0.5220451951026917), ('ruby+on+rails', 0.5194697380065918)]\n"
          ],
          "name": "stdout"
        },
        {
          "output_type": "stream",
          "text": [
            "/usr/local/lib/python3.6/dist-packages/gensim/matutils.py:737: FutureWarning: Conversion of the second argument of issubdtype from `int` to `np.signedinteger` is deprecated. In future, it will be treated as `np.int64 == np.dtype(int).type`.\n",
            "  if np.issubdtype(vec.dtype, np.int):\n"
          ],
          "name": "stderr"
        }
      ]
    },
    {
      "cell_type": "code",
      "metadata": {
        "id": "sAQ_z5Kn9IKM",
        "colab": {
          "base_uri": "https://localhost:8080/",
          "height": 87
        },
        "outputId": "65c34052-5146-4274-9c31-546225e32bf5"
      },
      "source": [
        "print('Java: ', skill2vec.wv.most_similar(['java']))"
      ],
      "execution_count": null,
      "outputs": [
        {
          "output_type": "stream",
          "text": [
            "Java:  [('shell+scripting', 0.5537083148956299), ('unix', 0.5528062582015991), ('core+java', 0.5506161451339722), ('uml', 0.5444188117980957), ('perl', 0.5400159358978271), ('pl/sql', 0.5292512774467468), ('postgresql', 0.5286115407943726), ('jsp', 0.5251384377479553), ('hibernate', 0.5168858766555786), ('ajax', 0.5163158774375916)]\n"
          ],
          "name": "stdout"
        },
        {
          "output_type": "stream",
          "text": [
            "/usr/local/lib/python3.6/dist-packages/gensim/matutils.py:737: FutureWarning: Conversion of the second argument of issubdtype from `int` to `np.signedinteger` is deprecated. In future, it will be treated as `np.int64 == np.dtype(int).type`.\n",
            "  if np.issubdtype(vec.dtype, np.int):\n"
          ],
          "name": "stderr"
        }
      ]
    },
    {
      "cell_type": "code",
      "metadata": {
        "id": "2583OVWG9PJo",
        "colab": {
          "base_uri": "https://localhost:8080/",
          "height": 87
        },
        "outputId": "009e6ace-e2de-44a9-c700-41dc0c58b042"
      },
      "source": [
        "print('Software: ', skill2vec.wv.most_similar(['software']))"
      ],
      "execution_count": null,
      "outputs": [
        {
          "output_type": "stream",
          "text": [
            "Software:  [('client/server', 0.5486273765563965), ('hardware', 0.5406678915023804), ('information+technology', 0.5401614904403687), ('mobile+computing', 0.5194137692451477), ('desktop+computers', 0.49413278698921204), ('finance', 0.48950710892677307), ('technical+support', 0.48482561111450195), ('networking', 0.4837372899055481), ('business', 0.478931725025177), ('technology', 0.47775694727897644)]\n"
          ],
          "name": "stdout"
        },
        {
          "output_type": "stream",
          "text": [
            "/usr/local/lib/python3.6/dist-packages/gensim/matutils.py:737: FutureWarning: Conversion of the second argument of issubdtype from `int` to `np.signedinteger` is deprecated. In future, it will be treated as `np.int64 == np.dtype(int).type`.\n",
            "  if np.issubdtype(vec.dtype, np.int):\n"
          ],
          "name": "stderr"
        }
      ]
    },
    {
      "cell_type": "code",
      "metadata": {
        "id": "CG4sdxiqN-0f",
        "colab": {
          "base_uri": "https://localhost:8080/",
          "height": 87
        },
        "outputId": "754a7541-67e8-44e6-db66-3fdbcf12da12"
      },
      "source": [
        "print('Business: ', skill2vec.wv.most_similar(['business']))"
      ],
      "execution_count": null,
      "outputs": [
        {
          "output_type": "stream",
          "text": [
            "Business:  [('finance', 0.6997088193893433), ('consulting', 0.6988168358802795), ('partnerships', 0.685670793056488), ('management', 0.6637219190597534), ('leadership', 0.6535564661026001), ('sales', 0.6166409254074097), ('business+development', 0.6123133301734924), ('strategy', 0.6027640104293823), ('financial+services', 0.5991703867912292), ('networking', 0.5702992677688599)]\n"
          ],
          "name": "stdout"
        },
        {
          "output_type": "stream",
          "text": [
            "/usr/local/lib/python3.6/dist-packages/gensim/matutils.py:737: FutureWarning: Conversion of the second argument of issubdtype from `int` to `np.signedinteger` is deprecated. In future, it will be treated as `np.int64 == np.dtype(int).type`.\n",
            "  if np.issubdtype(vec.dtype, np.int):\n"
          ],
          "name": "stderr"
        }
      ]
    },
    {
      "cell_type": "code",
      "metadata": {
        "id": "FjaB91EsOLpL",
        "colab": {
          "base_uri": "https://localhost:8080/",
          "height": 87
        },
        "outputId": "8a90b0ab-1b3b-4f69-d1f6-b4036db3d35d"
      },
      "source": [
        "print('Digital Marketing: ', skill2vec.wv.most_similar(['digital+marketing']))"
      ],
      "execution_count": null,
      "outputs": [
        {
          "output_type": "stream",
          "text": [
            "Business:  [('interactive+marketing', 0.5756317377090454), ('mobile+marketing', 0.5675020813941956), ('new+media', 0.5562108755111694), ('direct+marketing', 0.5389033555984497), ('brand+development', 0.5298377275466919), ('integrated+marketing', 0.5296133160591125), ('online+advertising', 0.528748631477356), ('content+strategy', 0.5275276899337769), ('marketing+management', 0.5247262716293335), ('media+planning', 0.5243606567382812)]\n"
          ],
          "name": "stdout"
        },
        {
          "output_type": "stream",
          "text": [
            "/usr/local/lib/python3.6/dist-packages/gensim/matutils.py:737: FutureWarning: Conversion of the second argument of issubdtype from `int` to `np.signedinteger` is deprecated. In future, it will be treated as `np.int64 == np.dtype(int).type`.\n",
            "  if np.issubdtype(vec.dtype, np.int):\n"
          ],
          "name": "stderr"
        }
      ]
    },
    {
      "cell_type": "code",
      "metadata": {
        "id": "Jj4NwLJnOEhU",
        "colab": {
          "base_uri": "https://localhost:8080/",
          "height": 87
        },
        "outputId": "ce6ea7cd-9a2c-4565-9600-5221cd45280d"
      },
      "source": [
        "print('Microsoft Office: ', skill2vec.wv.most_similar(['microsoft+office']))"
      ],
      "execution_count": null,
      "outputs": [
        {
          "output_type": "stream",
          "text": [
            "Business:  [('outlook', 0.7418065071105957), ('access', 0.6574441194534302), ('ms+office+suite', 0.6458053588867188), ('powerpoint', 0.5630080699920654), ('teamwork', 0.5521563291549683), ('word', 0.550815761089325), ('adobe+acrobat', 0.4974293112754822), ('administration', 0.49175336956977844), ('microsoft+office+suite', 0.48843464255332947), ('microsoft+word', 0.480785071849823)]\n"
          ],
          "name": "stdout"
        },
        {
          "output_type": "stream",
          "text": [
            "/usr/local/lib/python3.6/dist-packages/gensim/matutils.py:737: FutureWarning: Conversion of the second argument of issubdtype from `int` to `np.signedinteger` is deprecated. In future, it will be treated as `np.int64 == np.dtype(int).type`.\n",
            "  if np.issubdtype(vec.dtype, np.int):\n"
          ],
          "name": "stderr"
        }
      ]
    },
    {
      "cell_type": "code",
      "metadata": {
        "id": "7EaxB_fCO2LH",
        "colab": {
          "base_uri": "https://localhost:8080/",
          "height": 87
        },
        "outputId": "c277ae1f-f2e0-4365-a9ee-884c11007828"
      },
      "source": [
        "print('Microsoft Office: ', skill2vec.wv.most_similar(['social+media']))"
      ],
      "execution_count": null,
      "outputs": [
        {
          "output_type": "stream",
          "text": [
            "Microsoft Office:  [('social+networking', 0.6499519348144531), ('blogging', 0.6053204536437988), ('facebook', 0.6037037372589111), ('copywriting', 0.5674693584442139), ('online+advertising', 0.5652593374252319), ('social+media+marketing', 0.5508462190628052), ('advertising', 0.5498831272125244), ('community+management', 0.5490388870239258), ('new+media', 0.5393850803375244), ('youtube', 0.536549985408783)]\n"
          ],
          "name": "stdout"
        },
        {
          "output_type": "stream",
          "text": [
            "/usr/local/lib/python3.6/dist-packages/gensim/matutils.py:737: FutureWarning: Conversion of the second argument of issubdtype from `int` to `np.signedinteger` is deprecated. In future, it will be treated as `np.int64 == np.dtype(int).type`.\n",
            "  if np.issubdtype(vec.dtype, np.int):\n"
          ],
          "name": "stderr"
        }
      ]
    },
    {
      "cell_type": "code",
      "metadata": {
        "id": "VaQFqR7tCmXR"
      },
      "source": [
        "skill2vec.init_sims(replace=True)"
      ],
      "execution_count": null,
      "outputs": []
    },
    {
      "cell_type": "markdown",
      "metadata": {
        "id": "x4c9PM5b2iXE"
      },
      "source": [
        "Save model results in .bin file"
      ]
    },
    {
      "cell_type": "code",
      "metadata": {
        "id": "kEPtRTobsMlb",
        "colab": {
          "base_uri": "https://localhost:8080/",
          "height": 70
        },
        "outputId": "253a1ed2-aaca-4e0a-dcc8-485a3f937966"
      },
      "source": [
        "skill2vec.wv.save('model.bin')"
      ],
      "execution_count": null,
      "outputs": [
        {
          "output_type": "stream",
          "text": [
            "/usr/local/lib/python3.6/dist-packages/smart_open/smart_open_lib.py:398: UserWarning: This function is deprecated, use smart_open.open instead. See the migration notes for details: https://github.com/RaRe-Technologies/smart_open/blob/master/README.rst#migrating-to-the-new-open-function\n",
            "  'See the migration notes for details: %s' % _MIGRATION_NOTES_URL\n"
          ],
          "name": "stderr"
        }
      ]
    },
    {
      "cell_type": "markdown",
      "metadata": {
        "id": "KUFOaXHY2l1A"
      },
      "source": [
        "Download the bin file"
      ]
    },
    {
      "cell_type": "code",
      "metadata": {
        "id": "prM_UXis-nyN"
      },
      "source": [
        "from google.colab import files\n",
        "files.download('model.bin') "
      ],
      "execution_count": null,
      "outputs": []
    }
  ]
}